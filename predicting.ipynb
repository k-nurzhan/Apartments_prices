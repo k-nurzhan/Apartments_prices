{
 "cells": [
  {
   "cell_type": "code",
   "execution_count": 45,
   "metadata": {},
   "outputs": [],
   "source": [
    "import pandas as pd\n",
    "import numpy as np\n",
    "import seaborn as sns\n",
    "import matplotlib.pyplot as plt\n",
    "import missingno as msno\n",
    "from sklearn.preprocessing import LabelEncoder\n",
    "\n",
    "df_final = pd.read_csv(r\"C:\\Users\\coys7\\Desktop\\krisha\\final_2\")\n",
    "df_exp = pd.read_csv(r\"C:\\Users\\coys7\\Desktop\\krisha\\final_21\")\n",
    "\n"
   ]
  },
  {
   "cell_type": "code",
   "execution_count": 46,
   "metadata": {},
   "outputs": [
    {
     "data": {
      "text/plain": [
       "address           object\n",
       "prices             int64\n",
       "Rooms              int64\n",
       "Square_in_m^2    float64\n",
       "Floor              int64\n",
       "Type              object\n",
       "Year               int64\n",
       "District          object\n",
       "Type_code          int32\n",
       "District_code      int32\n",
       "dtype: object"
      ]
     },
     "execution_count": 46,
     "metadata": {},
     "output_type": "execute_result"
    }
   ],
   "source": [
    "df_exp = df_exp.dropna(axis=0)\n",
    "\n",
    "\n",
    "df_exp['Year']=df_exp['Year'].str.replace('г.п.', '', regex=True)\n",
    "df_exp['Year']=df_exp['Year'].str.replace('[', '', regex=True)\n",
    "df_exp['Year']=df_exp['Year'].str.replace(']', '', regex=True)\n",
    "df_exp['Year']=df_exp['Year'].str.replace(\"'\", '', regex=True)\n",
    "df_exp['Type']=df_exp['Type'].str.replace('[', '', regex=True)\n",
    "df_exp['Type']=df_exp['Type'].str.replace(']', '', regex=True)\n",
    "df_exp['Type']=df_exp['Type'].str.replace(\"'\", '', regex=True)\n",
    "df_exp['District']=df_exp['District'].str.replace(\"'\", '', regex=True)\n",
    "df_exp['District']=df_exp['District'].str.replace('[', '', regex=True)\n",
    "df_exp['District']=df_exp['District'].str.replace(']', '', regex=True)\n",
    "df_exp['prices']=df_exp['prices'].str.replace('[\\xa0]', '', regex=True)\n",
    "df_exp['prices']=df_exp['prices'].str.replace('〒', '', regex=True)\n",
    "df_exp['Floor']=df_exp['Floor'].str.replace(r'/[0-9]+[0-9]', '', regex=True)\n",
    "df_exp['Floor']=df_exp['Floor'].str.replace(r'/[0-9]', '', regex=True)\n",
    "df_exp = df_exp.dropna(axis=0)\n",
    "\n",
    "filter=df_exp['Type'].isin([\"монолитный дом\", \"панельный дом\", \"кирпичный дом\"])\n",
    "\n",
    "df_exp[filter]\n",
    "\n",
    "df_exp=df_exp[filter]\n",
    "\n",
    "df_exp = df_exp.drop_duplicates()\n",
    "\n",
    "filter_2=df_exp['District'].isin([\"Бостандыкский р-н\", \"Ауэзовский р-н\", \"Наурызбайский р-н\", \"Алмалинский р-н\", \"Алатауский р-н\", \"Турксибский р-н\", \"Медеуский р-н\", \"Жетысуский р-н\"])\n",
    "\n",
    "df_exp=df_exp[filter_2]\n",
    "\n",
    "#categorizing Type and District into numbers\n",
    "le= LabelEncoder()\n",
    "\n",
    "Type_label=le.fit_transform(df_exp['Type'])\n",
    "df_exp['Type_code'] = Type_label\n",
    "df_exp['Type_code'].value_counts()\n",
    "\n",
    "District_label =le.fit_transform(df_exp['District'])\n",
    "df_exp['District_code'] = District_label\n",
    "df_exp['District_code'].value_counts()\n",
    "\n",
    "df_exp['Floor'] = pd.to_numeric(df_exp['Floor'])\n",
    "df_exp['Year'] = pd.to_numeric(df_exp['Year'])\n",
    "df_exp['prices'] = pd.to_numeric(df_exp['prices'])\n",
    "df_exp.dtypes"
   ]
  },
  {
   "cell_type": "code",
   "execution_count": 47,
   "metadata": {},
   "outputs": [
    {
     "data": {
      "text/plain": [
       "35000000     408\n",
       "30000000     350\n",
       "45000000     313\n",
       "40000000     292\n",
       "25000000     287\n",
       "            ... \n",
       "10990000       1\n",
       "194999999      1\n",
       "23000500       1\n",
       "51990000       1\n",
       "13100000       1\n",
       "Name: prices, Length: 1152, dtype: int64"
      ]
     },
     "execution_count": 47,
     "metadata": {},
     "output_type": "execute_result"
    },
    {
     "data": {
      "image/png": "[encoded data removed]",
      "text/plain": [
       "<Figure size 500x500 with 1 Axes>"
      ]
     },
     "metadata": {},
     "output_type": "display_data"
    }
   ],
   "source": [
    "sns.displot(df_exp['prices'], kde=True)\n",
    "df_exp['prices'].value_counts()"
   ]
  },
  {
   "cell_type": "code",
   "execution_count": 60,
   "metadata": {},
   "outputs": [
    {
     "name": "stdout",
     "output_type": "stream",
     "text": [
      "MAE of Random Forest Regressor on test set: 7190677.781\n"
     ]
    }
   ],
   "source": [
    "from sklearn.ensemble import RandomForestRegressor\n",
    "from sklearn.naive_bayes import GaussianNB\n",
    "from sklearn.linear_model import LogisticRegression\n",
    "from sklearn import tree\n",
    "from sklearn.neighbors import KNeighborsClassifier\n",
    "from sklearn.svm import SVC\n",
    "from sklearn.metrics import mean_absolute_error, accuracy_score\n",
    "from sklearn.model_selection import train_test_split\n",
    "\n",
    "y = df_exp.prices\n",
    "\n",
    "features = ['Rooms','Square_in_m^2','Floor', 'Type_code', 'Year', 'District_code']\n",
    "x=df_exp[features]\n",
    "\n",
    "train_x, val_x, train_y, val_y = train_test_split(x, y, random_state=0)\n",
    "\n",
    "\n",
    "rf_model = RandomForestRegressor(random_state=1)\n",
    "rf_model.fit(train_x, train_y)\n",
    "rf_prediction = rf_model.predict(val_x)\n",
    "\n",
    "rf_val_mae = mean_absolute_error (rf_prediction, val_y)\n",
    "\n",
    "print(\"MAE of Random Forest Regressor on test set: {:.3f}\".format(rf_val_mae))"
   ]
  },
  {
   "cell_type": "code",
   "execution_count": 65,
   "metadata": {},
   "outputs": [
    {
     "name": "stdout",
     "output_type": "stream",
     "text": [
      "MSE Random Forest Regressor: 506638383629115.188\n",
      "RMSE Random Forest Regressor: 22508629.093\n"
     ]
    }
   ],
   "source": [
    "from sklearn.metrics import mean_squared_error\n",
    "MSE = mean_squared_error(rf_prediction, val_y)\n",
    "print(\"MSE Random Forest Regressor: {:.3f}\".format(MSE))\n",
    "\n",
    "RMSE = mean_squared_error(rf_prediction, val_y, squared=False)\n",
    "print (\"RMSE Random Forest Regressor: {:.3f}\".format(RMSE))"
   ]
  },
  {
   "cell_type": "code",
   "execution_count": 51,
   "metadata": {},
   "outputs": [
    {
     "name": "stdout",
     "output_type": "stream",
     "text": [
      "MSLE Random Forest Regressor: 3.5231%\n"
     ]
    }
   ],
   "source": [
    "from sklearn.metrics import mean_squared_log_error\n",
    "MSLE_rf = mean_squared_log_error(rf_prediction, val_y)\n",
    "print(\"MSLE Random Forest Regressor: {:.4%}\".format(MSLE_rf))"
   ]
  },
  {
   "cell_type": "code",
   "execution_count": 52,
   "metadata": {},
   "outputs": [
    {
     "name": "stdout",
     "output_type": "stream",
     "text": [
      "MAE XGBoost: 7288501.150\n",
      "MSLE Random Forest Regressor: 3.5789%\n"
     ]
    }
   ],
   "source": [
    "# train_x.dtypes\n",
    "from xgboost import XGBRegressor\n",
    "xgb = XGBRegressor()\n",
    "xgb.fit(train_x, train_y)\n",
    "xgb_prediction = xgb.predict(val_x)\n",
    "xgb_val_mae = mean_absolute_error(xgb_prediction, val_y)\n",
    "print(\"MAE XGBoost: {:.3f}\".format(xgb_val_mae))\n",
    "MSLE_xgb = mean_squared_log_error(xgb_prediction, val_y)\n",
    "print(\"MSLE XGBoost: {:.4%}\".format(MSLE_xgb))"
   ]
  },
  {
   "cell_type": "code",
   "execution_count": 53,
   "metadata": {},
   "outputs": [
    {
     "name": "stdout",
     "output_type": "stream",
     "text": [
      "MAE Gaussian NB: 15056963.050\n"
     ]
    }
   ],
   "source": [
    "gnb = GaussianNB()\n",
    "gnb.fit(train_x,train_y)\n",
    "gnb_prediction = gnb.predict(val_x)\n",
    "gnb_prediction_float = np.array(gnb_prediction, dtype=float)\n",
    "\n",
    "gnb_val_mae = mean_absolute_error(gnb_prediction_float, val_y)\n",
    "print(\"MAE Gaussian Naive Bayes: {:.3f}\".format(gnb_val_mae))"
   ]
  },
  {
   "cell_type": "code",
   "execution_count": 54,
   "metadata": {},
   "outputs": [
    {
     "name": "stdout",
     "output_type": "stream",
     "text": [
      "MAE Logistic Regression: 11160090.848\n"
     ]
    },
    {
     "name": "stderr",
     "output_type": "stream",
     "text": [
      "c:\\Users\\coys7\\AppData\\Local\\Programs\\Python\\Python310\\lib\\site-packages\\sklearn\\linear_model\\_logistic.py:458: ConvergenceWarning: lbfgs failed to converge (status=1):\n",
      "STOP: TOTAL NO. of ITERATIONS REACHED LIMIT.\n",
      "\n",
      "Increase the number of iterations (max_iter) or scale the data as shown in:\n",
      "    https://scikit-learn.org/stable/modules/preprocessing.html\n",
      "Please also refer to the documentation for alternative solver options:\n",
      "    https://scikit-learn.org/stable/modules/linear_model.html#logistic-regression\n",
      "  n_iter_i = _check_optimize_result(\n"
     ]
    }
   ],
   "source": [
    "lr =LogisticRegression(max_iter = 1000)\n",
    "lr.fit(train_x, train_y)\n",
    "lr_prediction = lr.predict(val_x)\n",
    "lr_prediction_float = np.array(lr_prediction, dtype=float)\n",
    "\n",
    "lr_val_mae = mean_absolute_error(lr_prediction_float, val_y)\n",
    "print(\"MAE Logistic Regression: {:.3f}\".format(lr_val_mae))"
   ]
  },
  {
   "cell_type": "code",
   "execution_count": 55,
   "metadata": {},
   "outputs": [
    {
     "name": "stdout",
     "output_type": "stream",
     "text": [
      "MAE Decision Tree Classifier: 9384390.323\n"
     ]
    }
   ],
   "source": [
    "dt = tree.DecisionTreeClassifier(random_state=0)\n",
    "dt.fit(train_x,train_y)\n",
    "dt_prediction = dt.predict(val_x)\n",
    "\n",
    "dt_val_mae = mean_absolute_error(dt_prediction,val_y)\n",
    "print(\"MAE Decision Tree Classifier: {:.3f}\".format(dt_val_mae))"
   ]
  },
  {
   "cell_type": "code",
   "execution_count": 56,
   "metadata": {},
   "outputs": [
    {
     "name": "stdout",
     "output_type": "stream",
     "text": [
      "MAE K-nearest Neighbors: 11932843.318\n"
     ]
    }
   ],
   "source": [
    "knn = KNeighborsClassifier()\n",
    "knn.fit(train_x,train_y)\n",
    "knn_prediction = knn.predict(val_x)\n",
    "\n",
    "knn_val_mae = mean_absolute_error(knn_prediction, val_y)\n",
    "print(\"MAE K-nearest Neighbors: {:.3f}\".format(knn_val_mae))"
   ]
  },
  {
   "cell_type": "code",
   "execution_count": 57,
   "metadata": {},
   "outputs": [
    {
     "name": "stdout",
     "output_type": "stream",
     "text": [
      "MAE Support Vector Classification: 20282047.914\n"
     ]
    }
   ],
   "source": [
    "svc = SVC (probability=True)\n",
    "svc.fit(train_x,train_y)\n",
    "svc_prediction = svc.predict(val_x)\n",
    "svc_prediction_float = np.array(svc_prediction, dtype=float)\n",
    "\n",
    "svc_val_mae = mean_absolute_error(svc_prediction,val_y)\n",
    "print(\"MAE Support Vector Classification: {:.3f}\".format(svc_val_mae))"
   ]
  },
  {
   "cell_type": "code",
   "execution_count": 62,
   "metadata": {},
   "outputs": [
    {
     "data": {
      "text/html": [
       "<div>\n",
       "<style scoped>\n",
       "    .dataframe tbody tr th:only-of-type {\n",
       "        vertical-align: middle;\n",
       "    }\n",
       "\n",
       "    .dataframe tbody tr th {\n",
       "        vertical-align: top;\n",
       "    }\n",
       "\n",
       "    .dataframe thead th {\n",
       "        text-align: right;\n",
       "    }\n",
       "</style>\n",
       "<table border=\"1\" class=\"dataframe\">\n",
       "  <thead>\n",
       "    <tr style=\"text-align: right;\">\n",
       "      <th></th>\n",
       "      <th>Algorithms</th>\n",
       "      <th>MAE</th>\n",
       "    </tr>\n",
       "  </thead>\n",
       "  <tbody>\n",
       "    <tr>\n",
       "      <th>0</th>\n",
       "      <td>Random Forest Regressor</td>\n",
       "      <td>7.190678e+06</td>\n",
       "    </tr>\n",
       "    <tr>\n",
       "      <th>1</th>\n",
       "      <td>XGBoost</td>\n",
       "      <td>7.288501e+06</td>\n",
       "    </tr>\n",
       "    <tr>\n",
       "      <th>4</th>\n",
       "      <td>Decision Tree Regressor</td>\n",
       "      <td>9.384390e+06</td>\n",
       "    </tr>\n",
       "    <tr>\n",
       "      <th>3</th>\n",
       "      <td>Logistic Regression</td>\n",
       "      <td>1.116009e+07</td>\n",
       "    </tr>\n",
       "    <tr>\n",
       "      <th>5</th>\n",
       "      <td>K-nearest Neighbors</td>\n",
       "      <td>1.193284e+07</td>\n",
       "    </tr>\n",
       "    <tr>\n",
       "      <th>2</th>\n",
       "      <td>Gaussian Naive Bayes</td>\n",
       "      <td>1.505696e+07</td>\n",
       "    </tr>\n",
       "    <tr>\n",
       "      <th>6</th>\n",
       "      <td>Support Vector</td>\n",
       "      <td>2.028205e+07</td>\n",
       "    </tr>\n",
       "  </tbody>\n",
       "</table>\n",
       "</div>"
      ],
      "text/plain": [
       "                Algorithms           MAE\n",
       "0  Random Forest Regressor  7.190678e+06\n",
       "1                  XGBoost  7.288501e+06\n",
       "4  Decision Tree Regressor  9.384390e+06\n",
       "3      Logistic Regression  1.116009e+07\n",
       "5      K-nearest Neighbors  1.193284e+07\n",
       "2     Gaussian Naive Bayes  1.505696e+07\n",
       "6           Support Vector  2.028205e+07"
      ]
     },
     "execution_count": 62,
     "metadata": {},
     "output_type": "execute_result"
    }
   ],
   "source": [
    "models = [\"Random Forest Regressor\", \"XGBoost\", \"Gaussian Naive Bayes\", \"Logistic Regression\", \"Decision Tree Regressor\", \"K-nearest Neighbors\", \"Support Vector\"]\n",
    "tests_mae =[rf_val_mae, xgb_val_mae, gnb_val_mae, lr_val_mae, dt_val_mae, knn_val_mae, svc_val_mae]\n",
    "compare_models = pd.DataFrame({\"Algorithms\": models, \"MAE\": tests_mae})\n",
    "compare_models.sort_values(by = \"MAE\", ascending=True)"
   ]
  },
  {
   "cell_type": "code",
   "execution_count": 63,
   "metadata": {},
   "outputs": [
    {
     "data": {
      "image/png": "[encoded data removed]",
      "text/plain": [
       "<Figure size 800x800 with 1 Axes>"
      ]
     },
     "metadata": {},
     "output_type": "display_data"
    }
   ],
   "source": [
    "import matplotlib.pyplot as plt\n",
    "plt.figure (figsize =(8,8))\n",
    "sns.barplot(x = \"MAE\", y = \"Algorithms\", data = compare_models)\n",
    "plt.show()"
   ]
  },
  {
   "cell_type": "code",
   "execution_count": 64,
   "metadata": {},
   "outputs": [
    {
     "name": "stdout",
     "output_type": "stream",
     "text": [
      "0.5308461897844454\n"
     ]
    }
   ],
   "source": [
    "from sklearn.metrics import r2_score\n",
    "score = r2_score(rf_prediction, val_y)\n",
    "print (score)\n"
   ]
  },
  {
   "cell_type": "code",
   "execution_count": 69,
   "metadata": {},
   "outputs": [
    {
     "data": {
      "text/html": [
       "<div>\n",
       "<style scoped>\n",
       "    .dataframe tbody tr th:only-of-type {\n",
       "        vertical-align: middle;\n",
       "    }\n",
       "\n",
       "    .dataframe tbody tr th {\n",
       "        vertical-align: top;\n",
       "    }\n",
       "\n",
       "    .dataframe thead th {\n",
       "        text-align: right;\n",
       "    }\n",
       "</style>\n",
       "<table border=\"1\" class=\"dataframe\">\n",
       "  <thead>\n",
       "    <tr style=\"text-align: right;\">\n",
       "      <th></th>\n",
       "      <th>true</th>\n",
       "      <th>predicted</th>\n",
       "    </tr>\n",
       "  </thead>\n",
       "  <tbody>\n",
       "    <tr>\n",
       "      <th>9144</th>\n",
       "      <td>65000000</td>\n",
       "      <td>5.423100e+07</td>\n",
       "    </tr>\n",
       "    <tr>\n",
       "      <th>4562</th>\n",
       "      <td>33500000</td>\n",
       "      <td>3.644650e+07</td>\n",
       "    </tr>\n",
       "    <tr>\n",
       "      <th>11179</th>\n",
       "      <td>55700000</td>\n",
       "      <td>4.881800e+07</td>\n",
       "    </tr>\n",
       "    <tr>\n",
       "      <th>12613</th>\n",
       "      <td>18000000</td>\n",
       "      <td>2.145595e+07</td>\n",
       "    </tr>\n",
       "    <tr>\n",
       "      <th>7862</th>\n",
       "      <td>59000000</td>\n",
       "      <td>5.718996e+07</td>\n",
       "    </tr>\n",
       "  </tbody>\n",
       "</table>\n",
       "</div>"
      ],
      "text/plain": [
       "           true     predicted\n",
       "9144   65000000  5.423100e+07\n",
       "4562   33500000  3.644650e+07\n",
       "11179  55700000  4.881800e+07\n",
       "12613  18000000  2.145595e+07\n",
       "7862   59000000  5.718996e+07"
      ]
     },
     "execution_count": 69,
     "metadata": {},
     "output_type": "execute_result"
    }
   ],
   "source": [
    "val_y1=val_y.copy()\n",
    "gross =[]\n",
    "for i in rf_prediction:\n",
    "    gross.append(i)\n",
    "df=pd.DataFrame(data=gross)\n",
    "df = df.set_index(val_y.index)\n",
    "df.rename(columns={0: \"predicted\"}, inplace=True)\n",
    "df1=pd.concat([val_y1, df], axis=1)\n",
    "df1.columns = [\"true\", \"predicted\"]\n",
    "df1.head()"
   ]
  },
  {
   "cell_type": "code",
   "execution_count": 71,
   "metadata": {},
   "outputs": [
    {
     "data": {
      "text/html": [
       "<div>\n",
       "<style scoped>\n",
       "    .dataframe tbody tr th:only-of-type {\n",
       "        vertical-align: middle;\n",
       "    }\n",
       "\n",
       "    .dataframe tbody tr th {\n",
       "        vertical-align: top;\n",
       "    }\n",
       "\n",
       "    .dataframe thead th {\n",
       "        text-align: right;\n",
       "    }\n",
       "</style>\n",
       "<table border=\"1\" class=\"dataframe\">\n",
       "  <thead>\n",
       "    <tr style=\"text-align: right;\">\n",
       "      <th></th>\n",
       "      <th>Count</th>\n",
       "    </tr>\n",
       "  </thead>\n",
       "  <tbody>\n",
       "    <tr>\n",
       "      <th>Underestimation</th>\n",
       "      <td>1641</td>\n",
       "    </tr>\n",
       "    <tr>\n",
       "      <th>Exact Estimation</th>\n",
       "      <td>1</td>\n",
       "    </tr>\n",
       "    <tr>\n",
       "      <th>Overestimation</th>\n",
       "      <td>1960</td>\n",
       "    </tr>\n",
       "  </tbody>\n",
       "</table>\n",
       "</div>"
      ],
      "text/plain": [
       "                  Count\n",
       "Underestimation    1641\n",
       "Exact Estimation      1\n",
       "Overestimation     1960"
      ]
     },
     "execution_count": 71,
     "metadata": {},
     "output_type": "execute_result"
    }
   ],
   "source": [
    "df1['diff'] = df1['predicted'] - df1['true']\n",
    "pd.DataFrame({'Count':[(df1['diff']<0).sum(),(df1['diff']==0).sum(),(df1['diff']>0).sum()]},columns=[\"Count\"], index = ['Underestimation', 'Exact Estimation', 'Overestimation'])\n"
   ]
  }
 ],
 "metadata": {
  "kernelspec": {
   "display_name": "Python 3",
   "language": "python",
   "name": "python3"
  },
  "language_info": {
   "codemirror_mode": {
    "name": "ipython",
    "version": 3
   },
   "file_extension": ".py",
   "mimetype": "text/x-python",
   "name": "python",
   "nbconvert_exporter": "python",
   "pygments_lexer": "ipython3",
   "version": "3.10.7"
  },
  "orig_nbformat": 4
 },
 "nbformat": 4,
 "nbformat_minor": 2
}
